{
 "cells": [
  {
   "cell_type": "markdown",
   "id": "d59a2534",
   "metadata": {},
   "source": [
    "# A STUDY ON THE IMPACT OF COVID-19 ON STUDENT BEHAVIOR AND LEARNING IN INDIA"
   ]
  },
  {
   "cell_type": "markdown",
   "id": "192dcd08",
   "metadata": {},
   "source": [
    "Covid-19 pandemic has drastically affected the life of people in india especially students. Their life style has changed dramtically when they started to learn from online class instead attending regular classes in school. Here I am trying to throw some light on to the changes that the pandemic brought in learning and students behavior"
   ]
  },
  {
   "cell_type": "code",
   "execution_count": 2,
   "id": "9e0ff5f8",
   "metadata": {},
   "outputs": [],
   "source": [
    "# import libraries\n",
    "\n",
    "\n",
    "import pandas as pd\n",
    "import numpy as np\n",
    "import seaborn as sns\n",
    "import matplotlib.pyplot as plt"
   ]
  },
  {
   "cell_type": "code",
   "execution_count": 3,
   "id": "093d8d9e",
   "metadata": {},
   "outputs": [
    {
     "name": "stdout",
     "output_type": "stream",
     "text": [
      "<class 'pandas.core.frame.DataFrame'>\n",
      "RangeIndex: 1182 entries, 0 to 1181\n",
      "Data columns (total 19 columns):\n",
      " #   Column                                                                              Non-Null Count  Dtype  \n",
      "---  ------                                                                              --------------  -----  \n",
      " 0   ID                                                                                  1182 non-null   object \n",
      " 1   Region of residence                                                                 1182 non-null   object \n",
      " 2   Age of Subject                                                                      1182 non-null   int64  \n",
      " 3   Time spent on Online Class                                                          1182 non-null   float64\n",
      " 4   Rating of Online Class experience                                                   1158 non-null   object \n",
      " 5   Medium for online class                                                             1131 non-null   object \n",
      " 6   Time spent on self study                                                            1182 non-null   float64\n",
      " 7   Time spent on fitness                                                               1182 non-null   float64\n",
      " 8   Time spent on sleep                                                                 1182 non-null   float64\n",
      " 9   Time spent on social media                                                          1182 non-null   float64\n",
      " 10  Prefered social media platform                                                      1182 non-null   object \n",
      " 11  Time spent on TV                                                                    1182 non-null   object \n",
      " 12  Number of meals per day                                                             1182 non-null   int64  \n",
      " 13  Change in your weight                                                               1182 non-null   object \n",
      " 14  Health issue during lockdown                                                        1182 non-null   object \n",
      " 15  Stress busters                                                                      1182 non-null   object \n",
      " 16  Time utilized                                                                       1182 non-null   object \n",
      " 17  Do you find yourself more connected with your family, close friends , relatives  ?  1182 non-null   object \n",
      " 18  What you miss the most                                                              1182 non-null   object \n",
      "dtypes: float64(5), int64(2), object(12)\n",
      "memory usage: 175.6+ KB\n"
     ]
    }
   ],
   "source": [
    "#import datasource\n",
    "\n",
    "data_set=pd.read_csv(\"COVID-19 Survey Student Responses.csv\") \n",
    "data_set.info()"
   ]
  },
  {
   "cell_type": "code",
   "execution_count": 4,
   "id": "5d80e69a",
   "metadata": {},
   "outputs": [
    {
     "data": {
      "text/html": [
       "<div>\n",
       "<style scoped>\n",
       "    .dataframe tbody tr th:only-of-type {\n",
       "        vertical-align: middle;\n",
       "    }\n",
       "\n",
       "    .dataframe tbody tr th {\n",
       "        vertical-align: top;\n",
       "    }\n",
       "\n",
       "    .dataframe thead th {\n",
       "        text-align: right;\n",
       "    }\n",
       "</style>\n",
       "<table border=\"1\" class=\"dataframe\">\n",
       "  <thead>\n",
       "    <tr style=\"text-align: right;\">\n",
       "      <th></th>\n",
       "      <th>ID</th>\n",
       "      <th>Region of residence</th>\n",
       "      <th>Age of Subject</th>\n",
       "      <th>Time spent on Online Class</th>\n",
       "      <th>Rating of Online Class experience</th>\n",
       "      <th>Medium for online class</th>\n",
       "      <th>Time spent on self study</th>\n",
       "      <th>Time spent on fitness</th>\n",
       "      <th>Time spent on sleep</th>\n",
       "      <th>Time spent on social media</th>\n",
       "      <th>Prefered social media platform</th>\n",
       "      <th>Time spent on TV</th>\n",
       "      <th>Number of meals per day</th>\n",
       "      <th>Change in your weight</th>\n",
       "      <th>Health issue during lockdown</th>\n",
       "      <th>Stress busters</th>\n",
       "      <th>Time utilized</th>\n",
       "      <th>Do you find yourself more connected with your family, close friends , relatives  ?</th>\n",
       "      <th>What you miss the most</th>\n",
       "    </tr>\n",
       "  </thead>\n",
       "  <tbody>\n",
       "    <tr>\n",
       "      <th>0</th>\n",
       "      <td>R1</td>\n",
       "      <td>Delhi-NCR</td>\n",
       "      <td>21</td>\n",
       "      <td>2.0</td>\n",
       "      <td>Good</td>\n",
       "      <td>Laptop/Desktop</td>\n",
       "      <td>4.0</td>\n",
       "      <td>0.0</td>\n",
       "      <td>7.0</td>\n",
       "      <td>3.0</td>\n",
       "      <td>Linkedin</td>\n",
       "      <td>1</td>\n",
       "      <td>4</td>\n",
       "      <td>Increased</td>\n",
       "      <td>NO</td>\n",
       "      <td>Cooking</td>\n",
       "      <td>YES</td>\n",
       "      <td>YES</td>\n",
       "      <td>School/college</td>\n",
       "    </tr>\n",
       "    <tr>\n",
       "      <th>1</th>\n",
       "      <td>R2</td>\n",
       "      <td>Delhi-NCR</td>\n",
       "      <td>21</td>\n",
       "      <td>0.0</td>\n",
       "      <td>Excellent</td>\n",
       "      <td>Smartphone</td>\n",
       "      <td>0.0</td>\n",
       "      <td>2.0</td>\n",
       "      <td>10.0</td>\n",
       "      <td>3.0</td>\n",
       "      <td>Youtube</td>\n",
       "      <td>0</td>\n",
       "      <td>3</td>\n",
       "      <td>Decreased</td>\n",
       "      <td>NO</td>\n",
       "      <td>Scrolling through social media</td>\n",
       "      <td>YES</td>\n",
       "      <td>NO</td>\n",
       "      <td>Roaming around freely</td>\n",
       "    </tr>\n",
       "    <tr>\n",
       "      <th>2</th>\n",
       "      <td>R3</td>\n",
       "      <td>Delhi-NCR</td>\n",
       "      <td>20</td>\n",
       "      <td>7.0</td>\n",
       "      <td>Very poor</td>\n",
       "      <td>Laptop/Desktop</td>\n",
       "      <td>3.0</td>\n",
       "      <td>0.0</td>\n",
       "      <td>6.0</td>\n",
       "      <td>2.0</td>\n",
       "      <td>Linkedin</td>\n",
       "      <td>0</td>\n",
       "      <td>3</td>\n",
       "      <td>Remain Constant</td>\n",
       "      <td>NO</td>\n",
       "      <td>Listening to music</td>\n",
       "      <td>NO</td>\n",
       "      <td>YES</td>\n",
       "      <td>Travelling</td>\n",
       "    </tr>\n",
       "    <tr>\n",
       "      <th>3</th>\n",
       "      <td>R4</td>\n",
       "      <td>Delhi-NCR</td>\n",
       "      <td>20</td>\n",
       "      <td>3.0</td>\n",
       "      <td>Very poor</td>\n",
       "      <td>Smartphone</td>\n",
       "      <td>2.0</td>\n",
       "      <td>1.0</td>\n",
       "      <td>6.0</td>\n",
       "      <td>5.0</td>\n",
       "      <td>Instagram</td>\n",
       "      <td>0</td>\n",
       "      <td>3</td>\n",
       "      <td>Decreased</td>\n",
       "      <td>NO</td>\n",
       "      <td>Watching web series</td>\n",
       "      <td>NO</td>\n",
       "      <td>NO</td>\n",
       "      <td>Friends , relatives</td>\n",
       "    </tr>\n",
       "    <tr>\n",
       "      <th>4</th>\n",
       "      <td>R5</td>\n",
       "      <td>Delhi-NCR</td>\n",
       "      <td>21</td>\n",
       "      <td>3.0</td>\n",
       "      <td>Good</td>\n",
       "      <td>Laptop/Desktop</td>\n",
       "      <td>3.0</td>\n",
       "      <td>1.0</td>\n",
       "      <td>8.0</td>\n",
       "      <td>3.0</td>\n",
       "      <td>Instagram</td>\n",
       "      <td>1</td>\n",
       "      <td>4</td>\n",
       "      <td>Remain Constant</td>\n",
       "      <td>NO</td>\n",
       "      <td>Social Media</td>\n",
       "      <td>NO</td>\n",
       "      <td>NO</td>\n",
       "      <td>Travelling</td>\n",
       "    </tr>\n",
       "  </tbody>\n",
       "</table>\n",
       "</div>"
      ],
      "text/plain": [
       "   ID Region of residence  Age of Subject  Time spent on Online Class  \\\n",
       "0  R1           Delhi-NCR              21                         2.0   \n",
       "1  R2           Delhi-NCR              21                         0.0   \n",
       "2  R3           Delhi-NCR              20                         7.0   \n",
       "3  R4           Delhi-NCR              20                         3.0   \n",
       "4  R5           Delhi-NCR              21                         3.0   \n",
       "\n",
       "  Rating of Online Class experience Medium for online class  \\\n",
       "0                              Good          Laptop/Desktop   \n",
       "1                         Excellent              Smartphone   \n",
       "2                         Very poor          Laptop/Desktop   \n",
       "3                         Very poor              Smartphone   \n",
       "4                              Good          Laptop/Desktop   \n",
       "\n",
       "   Time spent on self study  Time spent on fitness  Time spent on sleep  \\\n",
       "0                       4.0                    0.0                  7.0   \n",
       "1                       0.0                    2.0                 10.0   \n",
       "2                       3.0                    0.0                  6.0   \n",
       "3                       2.0                    1.0                  6.0   \n",
       "4                       3.0                    1.0                  8.0   \n",
       "\n",
       "   Time spent on social media Prefered social media platform Time spent on TV  \\\n",
       "0                         3.0                       Linkedin                1   \n",
       "1                         3.0                        Youtube                0   \n",
       "2                         2.0                       Linkedin                0   \n",
       "3                         5.0                      Instagram                0   \n",
       "4                         3.0                      Instagram                1   \n",
       "\n",
       "   Number of meals per day Change in your weight Health issue during lockdown  \\\n",
       "0                        4             Increased                           NO   \n",
       "1                        3             Decreased                           NO   \n",
       "2                        3       Remain Constant                           NO   \n",
       "3                        3             Decreased                           NO   \n",
       "4                        4       Remain Constant                           NO   \n",
       "\n",
       "                   Stress busters Time utilized  \\\n",
       "0                         Cooking           YES   \n",
       "1  Scrolling through social media           YES   \n",
       "2              Listening to music            NO   \n",
       "3             Watching web series            NO   \n",
       "4                    Social Media            NO   \n",
       "\n",
       "  Do you find yourself more connected with your family, close friends , relatives  ?  \\\n",
       "0                                                YES                                   \n",
       "1                                                 NO                                   \n",
       "2                                                YES                                   \n",
       "3                                                 NO                                   \n",
       "4                                                 NO                                   \n",
       "\n",
       "  What you miss the most  \n",
       "0         School/college  \n",
       "1  Roaming around freely  \n",
       "2             Travelling  \n",
       "3    Friends , relatives  \n",
       "4             Travelling  "
      ]
     },
     "execution_count": 4,
     "metadata": {},
     "output_type": "execute_result"
    }
   ],
   "source": [
    "# checking the dataframe info\n",
    "\n",
    "data_set.head(5)\n"
   ]
  },
  {
   "cell_type": "code",
   "execution_count": 5,
   "id": "b2d65306",
   "metadata": {},
   "outputs": [
    {
     "data": {
      "text/html": [
       "<div>\n",
       "<style scoped>\n",
       "    .dataframe tbody tr th:only-of-type {\n",
       "        vertical-align: middle;\n",
       "    }\n",
       "\n",
       "    .dataframe tbody tr th {\n",
       "        vertical-align: top;\n",
       "    }\n",
       "\n",
       "    .dataframe thead th {\n",
       "        text-align: right;\n",
       "    }\n",
       "</style>\n",
       "<table border=\"1\" class=\"dataframe\">\n",
       "  <thead>\n",
       "    <tr style=\"text-align: right;\">\n",
       "      <th></th>\n",
       "      <th>ID</th>\n",
       "      <th>Region of residence</th>\n",
       "      <th>Age of Subject</th>\n",
       "      <th>Time spent on Online Class</th>\n",
       "      <th>Rating of Online Class experience</th>\n",
       "      <th>Medium for online class</th>\n",
       "      <th>Time spent on self study</th>\n",
       "      <th>Time spent on fitness</th>\n",
       "      <th>Time spent on sleep</th>\n",
       "      <th>Time spent on social media</th>\n",
       "      <th>Prefered social media platform</th>\n",
       "      <th>Time spent on TV</th>\n",
       "      <th>Number of meals per day</th>\n",
       "      <th>Change in your weight</th>\n",
       "      <th>Health issue during lockdown</th>\n",
       "      <th>Stress busters</th>\n",
       "      <th>Time utilized</th>\n",
       "      <th>Do you find yourself more connected with your family, close friends , relatives  ?</th>\n",
       "      <th>What you miss the most</th>\n",
       "    </tr>\n",
       "  </thead>\n",
       "  <tbody>\n",
       "    <tr>\n",
       "      <th>32</th>\n",
       "      <td>R33</td>\n",
       "      <td>Delhi-NCR</td>\n",
       "      <td>21</td>\n",
       "      <td>0.0</td>\n",
       "      <td>Very poor</td>\n",
       "      <td>NaN</td>\n",
       "      <td>5.0</td>\n",
       "      <td>2.0</td>\n",
       "      <td>4.0</td>\n",
       "      <td>2.0</td>\n",
       "      <td>Omegle</td>\n",
       "      <td>0</td>\n",
       "      <td>3</td>\n",
       "      <td>Remain Constant</td>\n",
       "      <td>NO</td>\n",
       "      <td>Watching orgasm releasing videos</td>\n",
       "      <td>YES</td>\n",
       "      <td>NO</td>\n",
       "      <td>Nothing this is my usual life</td>\n",
       "    </tr>\n",
       "    <tr>\n",
       "      <th>34</th>\n",
       "      <td>R35</td>\n",
       "      <td>Delhi-NCR</td>\n",
       "      <td>20</td>\n",
       "      <td>0.0</td>\n",
       "      <td>NaN</td>\n",
       "      <td>NaN</td>\n",
       "      <td>6.0</td>\n",
       "      <td>1.0</td>\n",
       "      <td>6.0</td>\n",
       "      <td>5.0</td>\n",
       "      <td>Instagram</td>\n",
       "      <td>0</td>\n",
       "      <td>4</td>\n",
       "      <td>Increased</td>\n",
       "      <td>NO</td>\n",
       "      <td>Talking to your relatives</td>\n",
       "      <td>YES</td>\n",
       "      <td>NO</td>\n",
       "      <td>Eating outside</td>\n",
       "    </tr>\n",
       "    <tr>\n",
       "      <th>34</th>\n",
       "      <td>R35</td>\n",
       "      <td>Delhi-NCR</td>\n",
       "      <td>20</td>\n",
       "      <td>0.0</td>\n",
       "      <td>NaN</td>\n",
       "      <td>NaN</td>\n",
       "      <td>6.0</td>\n",
       "      <td>1.0</td>\n",
       "      <td>6.0</td>\n",
       "      <td>5.0</td>\n",
       "      <td>Instagram</td>\n",
       "      <td>0</td>\n",
       "      <td>4</td>\n",
       "      <td>Increased</td>\n",
       "      <td>NO</td>\n",
       "      <td>Talking to your relatives</td>\n",
       "      <td>YES</td>\n",
       "      <td>NO</td>\n",
       "      <td>Eating outside</td>\n",
       "    </tr>\n",
       "    <tr>\n",
       "      <th>39</th>\n",
       "      <td>R40</td>\n",
       "      <td>Delhi-NCR</td>\n",
       "      <td>20</td>\n",
       "      <td>0.0</td>\n",
       "      <td>NaN</td>\n",
       "      <td>NaN</td>\n",
       "      <td>8.0</td>\n",
       "      <td>0.0</td>\n",
       "      <td>8.0</td>\n",
       "      <td>0.0</td>\n",
       "      <td>Youtube</td>\n",
       "      <td>0</td>\n",
       "      <td>3</td>\n",
       "      <td>Increased</td>\n",
       "      <td>NO</td>\n",
       "      <td>Reading books</td>\n",
       "      <td>NO</td>\n",
       "      <td>YES</td>\n",
       "      <td>Travelling</td>\n",
       "    </tr>\n",
       "    <tr>\n",
       "      <th>39</th>\n",
       "      <td>R40</td>\n",
       "      <td>Delhi-NCR</td>\n",
       "      <td>20</td>\n",
       "      <td>0.0</td>\n",
       "      <td>NaN</td>\n",
       "      <td>NaN</td>\n",
       "      <td>8.0</td>\n",
       "      <td>0.0</td>\n",
       "      <td>8.0</td>\n",
       "      <td>0.0</td>\n",
       "      <td>Youtube</td>\n",
       "      <td>0</td>\n",
       "      <td>3</td>\n",
       "      <td>Increased</td>\n",
       "      <td>NO</td>\n",
       "      <td>Reading books</td>\n",
       "      <td>NO</td>\n",
       "      <td>YES</td>\n",
       "      <td>Travelling</td>\n",
       "    </tr>\n",
       "    <tr>\n",
       "      <th>...</th>\n",
       "      <td>...</td>\n",
       "      <td>...</td>\n",
       "      <td>...</td>\n",
       "      <td>...</td>\n",
       "      <td>...</td>\n",
       "      <td>...</td>\n",
       "      <td>...</td>\n",
       "      <td>...</td>\n",
       "      <td>...</td>\n",
       "      <td>...</td>\n",
       "      <td>...</td>\n",
       "      <td>...</td>\n",
       "      <td>...</td>\n",
       "      <td>...</td>\n",
       "      <td>...</td>\n",
       "      <td>...</td>\n",
       "      <td>...</td>\n",
       "      <td>...</td>\n",
       "      <td>...</td>\n",
       "    </tr>\n",
       "    <tr>\n",
       "      <th>952</th>\n",
       "      <td>R961</td>\n",
       "      <td>Delhi-NCR</td>\n",
       "      <td>20</td>\n",
       "      <td>0.0</td>\n",
       "      <td>NaN</td>\n",
       "      <td>NaN</td>\n",
       "      <td>2.0</td>\n",
       "      <td>0.0</td>\n",
       "      <td>7.0</td>\n",
       "      <td>0.5</td>\n",
       "      <td>Twitter</td>\n",
       "      <td>2</td>\n",
       "      <td>2</td>\n",
       "      <td>Remain Constant</td>\n",
       "      <td>NO</td>\n",
       "      <td>Online surfing</td>\n",
       "      <td>NO</td>\n",
       "      <td>YES</td>\n",
       "      <td>Eating outside</td>\n",
       "    </tr>\n",
       "    <tr>\n",
       "      <th>957</th>\n",
       "      <td>R966</td>\n",
       "      <td>Delhi-NCR</td>\n",
       "      <td>21</td>\n",
       "      <td>0.0</td>\n",
       "      <td>NaN</td>\n",
       "      <td>NaN</td>\n",
       "      <td>6.0</td>\n",
       "      <td>1.0</td>\n",
       "      <td>9.0</td>\n",
       "      <td>2.0</td>\n",
       "      <td>Whatsapp</td>\n",
       "      <td>0.5</td>\n",
       "      <td>4</td>\n",
       "      <td>Increased</td>\n",
       "      <td>NO</td>\n",
       "      <td>Scrolling through social media</td>\n",
       "      <td>YES</td>\n",
       "      <td>YES</td>\n",
       "      <td>Friends , relatives</td>\n",
       "    </tr>\n",
       "    <tr>\n",
       "      <th>957</th>\n",
       "      <td>R966</td>\n",
       "      <td>Delhi-NCR</td>\n",
       "      <td>21</td>\n",
       "      <td>0.0</td>\n",
       "      <td>NaN</td>\n",
       "      <td>NaN</td>\n",
       "      <td>6.0</td>\n",
       "      <td>1.0</td>\n",
       "      <td>9.0</td>\n",
       "      <td>2.0</td>\n",
       "      <td>Whatsapp</td>\n",
       "      <td>0.5</td>\n",
       "      <td>4</td>\n",
       "      <td>Increased</td>\n",
       "      <td>NO</td>\n",
       "      <td>Scrolling through social media</td>\n",
       "      <td>YES</td>\n",
       "      <td>YES</td>\n",
       "      <td>Friends , relatives</td>\n",
       "    </tr>\n",
       "    <tr>\n",
       "      <th>960</th>\n",
       "      <td>R969</td>\n",
       "      <td>Delhi-NCR</td>\n",
       "      <td>23</td>\n",
       "      <td>0.0</td>\n",
       "      <td>NaN</td>\n",
       "      <td>NaN</td>\n",
       "      <td>2.0</td>\n",
       "      <td>2.0</td>\n",
       "      <td>10.0</td>\n",
       "      <td>6.0</td>\n",
       "      <td>Youtube</td>\n",
       "      <td>0</td>\n",
       "      <td>2</td>\n",
       "      <td>Remain Constant</td>\n",
       "      <td>NO</td>\n",
       "      <td>Listening to music</td>\n",
       "      <td>YES</td>\n",
       "      <td>NO</td>\n",
       "      <td>School/college</td>\n",
       "    </tr>\n",
       "    <tr>\n",
       "      <th>960</th>\n",
       "      <td>R969</td>\n",
       "      <td>Delhi-NCR</td>\n",
       "      <td>23</td>\n",
       "      <td>0.0</td>\n",
       "      <td>NaN</td>\n",
       "      <td>NaN</td>\n",
       "      <td>2.0</td>\n",
       "      <td>2.0</td>\n",
       "      <td>10.0</td>\n",
       "      <td>6.0</td>\n",
       "      <td>Youtube</td>\n",
       "      <td>0</td>\n",
       "      <td>2</td>\n",
       "      <td>Remain Constant</td>\n",
       "      <td>NO</td>\n",
       "      <td>Listening to music</td>\n",
       "      <td>YES</td>\n",
       "      <td>NO</td>\n",
       "      <td>School/college</td>\n",
       "    </tr>\n",
       "  </tbody>\n",
       "</table>\n",
       "<p>75 rows × 19 columns</p>\n",
       "</div>"
      ],
      "text/plain": [
       "       ID Region of residence  Age of Subject  Time spent on Online Class  \\\n",
       "32    R33           Delhi-NCR              21                         0.0   \n",
       "34    R35           Delhi-NCR              20                         0.0   \n",
       "34    R35           Delhi-NCR              20                         0.0   \n",
       "39    R40           Delhi-NCR              20                         0.0   \n",
       "39    R40           Delhi-NCR              20                         0.0   \n",
       "..    ...                 ...             ...                         ...   \n",
       "952  R961           Delhi-NCR              20                         0.0   \n",
       "957  R966           Delhi-NCR              21                         0.0   \n",
       "957  R966           Delhi-NCR              21                         0.0   \n",
       "960  R969           Delhi-NCR              23                         0.0   \n",
       "960  R969           Delhi-NCR              23                         0.0   \n",
       "\n",
       "    Rating of Online Class experience Medium for online class  \\\n",
       "32                          Very poor                     NaN   \n",
       "34                                NaN                     NaN   \n",
       "34                                NaN                     NaN   \n",
       "39                                NaN                     NaN   \n",
       "39                                NaN                     NaN   \n",
       "..                                ...                     ...   \n",
       "952                               NaN                     NaN   \n",
       "957                               NaN                     NaN   \n",
       "957                               NaN                     NaN   \n",
       "960                               NaN                     NaN   \n",
       "960                               NaN                     NaN   \n",
       "\n",
       "     Time spent on self study  Time spent on fitness  Time spent on sleep  \\\n",
       "32                        5.0                    2.0                  4.0   \n",
       "34                        6.0                    1.0                  6.0   \n",
       "34                        6.0                    1.0                  6.0   \n",
       "39                        8.0                    0.0                  8.0   \n",
       "39                        8.0                    0.0                  8.0   \n",
       "..                        ...                    ...                  ...   \n",
       "952                       2.0                    0.0                  7.0   \n",
       "957                       6.0                    1.0                  9.0   \n",
       "957                       6.0                    1.0                  9.0   \n",
       "960                       2.0                    2.0                 10.0   \n",
       "960                       2.0                    2.0                 10.0   \n",
       "\n",
       "     Time spent on social media Prefered social media platform  \\\n",
       "32                          2.0                         Omegle   \n",
       "34                          5.0                      Instagram   \n",
       "34                          5.0                      Instagram   \n",
       "39                          0.0                        Youtube   \n",
       "39                          0.0                        Youtube   \n",
       "..                          ...                            ...   \n",
       "952                         0.5                        Twitter   \n",
       "957                         2.0                       Whatsapp   \n",
       "957                         2.0                       Whatsapp   \n",
       "960                         6.0                        Youtube   \n",
       "960                         6.0                        Youtube   \n",
       "\n",
       "    Time spent on TV  Number of meals per day Change in your weight  \\\n",
       "32                 0                        3       Remain Constant   \n",
       "34                 0                        4             Increased   \n",
       "34                 0                        4             Increased   \n",
       "39                 0                        3             Increased   \n",
       "39                 0                        3             Increased   \n",
       "..               ...                      ...                   ...   \n",
       "952                2                        2       Remain Constant   \n",
       "957              0.5                        4             Increased   \n",
       "957              0.5                        4             Increased   \n",
       "960                0                        2       Remain Constant   \n",
       "960                0                        2       Remain Constant   \n",
       "\n",
       "    Health issue during lockdown                    Stress busters  \\\n",
       "32                            NO  Watching orgasm releasing videos   \n",
       "34                            NO         Talking to your relatives   \n",
       "34                            NO         Talking to your relatives   \n",
       "39                            NO                     Reading books   \n",
       "39                            NO                     Reading books   \n",
       "..                           ...                               ...   \n",
       "952                           NO                    Online surfing   \n",
       "957                           NO    Scrolling through social media   \n",
       "957                           NO    Scrolling through social media   \n",
       "960                           NO                Listening to music   \n",
       "960                           NO                Listening to music   \n",
       "\n",
       "    Time utilized  \\\n",
       "32            YES   \n",
       "34            YES   \n",
       "34            YES   \n",
       "39             NO   \n",
       "39             NO   \n",
       "..            ...   \n",
       "952            NO   \n",
       "957           YES   \n",
       "957           YES   \n",
       "960           YES   \n",
       "960           YES   \n",
       "\n",
       "    Do you find yourself more connected with your family, close friends , relatives  ?  \\\n",
       "32                                                  NO                                   \n",
       "34                                                  NO                                   \n",
       "34                                                  NO                                   \n",
       "39                                                 YES                                   \n",
       "39                                                 YES                                   \n",
       "..                                                 ...                                   \n",
       "952                                                YES                                   \n",
       "957                                                YES                                   \n",
       "957                                                YES                                   \n",
       "960                                                 NO                                   \n",
       "960                                                 NO                                   \n",
       "\n",
       "            What you miss the most  \n",
       "32   Nothing this is my usual life  \n",
       "34                  Eating outside  \n",
       "34                  Eating outside  \n",
       "39                      Travelling  \n",
       "39                      Travelling  \n",
       "..                             ...  \n",
       "952                 Eating outside  \n",
       "957            Friends , relatives  \n",
       "957            Friends , relatives  \n",
       "960                 School/college  \n",
       "960                 School/college  \n",
       "\n",
       "[75 rows x 19 columns]"
      ]
     },
     "execution_count": 5,
     "metadata": {},
     "output_type": "execute_result"
    }
   ],
   "source": [
    "data_set[data_set.isnull().values] #checking for missing  values"
   ]
  },
  {
   "cell_type": "markdown",
   "id": "74832468",
   "metadata": {},
   "source": [
    "Checking for unique values in the column 'Rating of Online Class experiance', 'Medium for Online Class', 'Time spent on TV', 'Time spent on sleep','Time spent on fitness', 'What you miss the most', 'stress busters', 'preffered Social meadia platform', for making data more convenient and making necessary changs"
   ]
  },
  {
   "cell_type": "code",
   "execution_count": 6,
   "id": "cc3b220b",
   "metadata": {},
   "outputs": [
    {
     "data": {
      "text/plain": [
       "array(['Good', 'Excellent', 'Very poor', 'Average', nan, 'Poor'],\n",
       "      dtype=object)"
      ]
     },
     "execution_count": 6,
     "metadata": {},
     "output_type": "execute_result"
    }
   ],
   "source": [
    "data_set[\"Rating of Online Class experience\"].unique()\n",
    " "
   ]
  },
  {
   "cell_type": "code",
   "execution_count": 7,
   "id": "73527de4",
   "metadata": {},
   "outputs": [
    {
     "data": {
      "text/plain": [
       "array(['Laptop/Desktop', 'Smartphone', 'Tablet', nan, 'Any Gadget',\n",
       "       'Smartphone or Laptop/Desktop'], dtype=object)"
      ]
     },
     "execution_count": 7,
     "metadata": {},
     "output_type": "execute_result"
    }
   ],
   "source": [
    "data_set[\"Medium for online class\"].unique()\n"
   ]
  },
  {
   "cell_type": "code",
   "execution_count": 8,
   "id": "2dcdd3a2",
   "metadata": {},
   "outputs": [],
   "source": [
    "#handling missing values\n",
    "\n",
    "data_set[\"Rating of Online Class experience\"]=data_set[\"Rating of Online Class experience\"].replace(np.nan,\"Average\")\n"
   ]
  },
  {
   "cell_type": "code",
   "execution_count": 9,
   "id": "f7174918",
   "metadata": {},
   "outputs": [],
   "source": [
    "data_set[\"Medium for online class\"]=data_set[\"Medium for online class\"].replace(np.nan,\"Smartphone or Laptop/Desktop\")"
   ]
  },
  {
   "cell_type": "code",
   "execution_count": 10,
   "id": "b812cf1c",
   "metadata": {},
   "outputs": [
    {
     "data": {
      "text/plain": [
       "array(['1', '0', '3', '0.5', 'n', '2', '4.5', '1.5', 'N', '4', '0.3', '5',\n",
       "       'No tv', '0.1', '0.25', '6', '0.6', '7', '8', '15', ' ', '0.75',\n",
       "       '2.5', '3.5', '0.4'], dtype=object)"
      ]
     },
     "execution_count": 10,
     "metadata": {},
     "output_type": "execute_result"
    }
   ],
   "source": [
    "data_set[\"Time spent on TV\"].unique()"
   ]
  },
  {
   "cell_type": "code",
   "execution_count": 11,
   "id": "938789bf",
   "metadata": {},
   "outputs": [
    {
     "data": {
      "text/plain": [
       "array([ 7. , 10. ,  6. ,  8. ,  5. ,  9. ,  4. , 12. , 11. ,  6.5,  7.5,\n",
       "       14. , 13. , 15. ,  7.8,  6.7,  8.5,  8.3])"
      ]
     },
     "execution_count": 11,
     "metadata": {},
     "output_type": "execute_result"
    }
   ],
   "source": [
    "data_set[\"Time spent on sleep\"].unique()"
   ]
  },
  {
   "cell_type": "code",
   "execution_count": 12,
   "id": "0ac4d9f0",
   "metadata": {},
   "outputs": [
    {
     "data": {
      "text/plain": [
       "array([0.  , 2.  , 1.  , 0.5 , 3.  , 0.25, 5.  , 2.5 , 0.3 , 4.  , 0.6 ])"
      ]
     },
     "execution_count": 12,
     "metadata": {},
     "output_type": "execute_result"
    }
   ],
   "source": [
    "data_set[\"Time spent on fitness\"].unique()"
   ]
  },
  {
   "cell_type": "code",
   "execution_count": 13,
   "id": "64320bb7",
   "metadata": {},
   "outputs": [],
   "source": [
    "data_set[\"Time spent on TV\"]=data_set[\"Time spent on TV\"].replace({\"No tv\":'0',\"n\":'0',\"N\":'0',' ':'0',0:'0'})\n",
    "data_set[\"Time spent on TV\"]=data_set[\"Time spent on TV\"].astype('float',copy = True)"
   ]
  },
  {
   "cell_type": "code",
   "execution_count": 14,
   "id": "d2dfe1b2",
   "metadata": {},
   "outputs": [
    {
     "data": {
      "text/plain": [
       "array(['School/college', 'Roaming around freely', 'Travelling',\n",
       "       'Friends , relatives', 'Eating outside', 'Colleagues', 'Job',\n",
       "       'Nothing this is my usual life', 'Gym', 'All of them',\n",
       "       'Friends and School', 'Friends,Romaing and traveling',\n",
       "       'Only friends', 'Taking kids to park', 'All of the above ',\n",
       "       'All the above', 'Internet', 'Going to the movies', 'Nothing',\n",
       "       'school, relatives and friends', 'All ', 'All', 'all of the above',\n",
       "       'Nothing ', 'Eating outside and friends.', 'All above',\n",
       "       'Nah, this is my usual lifestyle anyway, just being lazy....',\n",
       "       'Family ', 'Football', 'Normal life',\n",
       "       'The idea of being around fun loving people but this time has certainly made us all to reconnect (and fill the gap if any) with our families and relatives so it is fun but certainly we do miss hanging out with friends',\n",
       "       'My normal routine', 'ALL', 'NOTHING', 'Being social ',\n",
       "       'Previous mistakes', 'all', 'nothing', 'Playing', '.',\n",
       "       'I have missed nothing ', 'Travelling & Friends',\n",
       "       'To stay alone. ', 'Family', 'Badminton in court',\n",
       "       'Friends, relatives & travelling', 'everything',\n",
       "       'Friends and roaming around freely', 'Metro',\n",
       "       'School and friends.', 'School and my school friends'],\n",
       "      dtype=object)"
      ]
     },
     "execution_count": 14,
     "metadata": {},
     "output_type": "execute_result"
    }
   ],
   "source": [
    "data_set[\"What you miss the most\"].unique()"
   ]
  },
  {
   "cell_type": "code",
   "execution_count": 15,
   "id": "9b3a0dfe",
   "metadata": {},
   "outputs": [],
   "source": [
    "data_set[\"What you miss the most\"]=data_set[\"What you miss the most\"].replace(['All of them','All of the above ',\n",
    "                                                                              'All the above','All ','All','all of the above',\n",
    "                                                                              'All above','ALL','all','everything',],\"ALL\")"
   ]
  },
  {
   "cell_type": "code",
   "execution_count": 16,
   "id": "2ea3c26e",
   "metadata": {},
   "outputs": [],
   "source": [
    "data_set[\"What you miss the most\"]=data_set[\"What you miss the most\"].replace(['Nothing this is my usual life','Nothing',\n",
    "                                                                              'Nothing ',\n",
    "                                                            'Nah, this is my usual lifestyle anyway, just being lazy....',\n",
    "                                                                 'NOTHING', 'Normal life','My normal routine', \n",
    "                                                                'nothing', 'I have missed nothing '],\n",
    "                                                                  \"Nothing\")"
   ]
  },
  {
   "cell_type": "code",
   "execution_count": 17,
   "id": "b9a75206",
   "metadata": {},
   "outputs": [],
   "source": [
    "data_set[\"What you miss the most\"]=data_set[\"What you miss the most\"].replace([ 'Friends , relatives','Only friends',\n",
    "\n",
    "                                                                               \n",
    "                                                                               'The idea of being around fun loving people but this time has certainly made us all to reconnect (and fill the gap if any) with our families and relatives so it is fun but certainly we do miss hanging out with friends',\n",
    "                                                                            'Family'],'Friends/relatives/family')"
   ]
  },
  {
   "cell_type": "code",
   "execution_count": 18,
   "id": "fd30b368",
   "metadata": {},
   "outputs": [],
   "source": [
    "data_set[\"What you miss the most\"]=data_set[\"What you miss the most\"].replace(['School/college','Friends and School',\n",
    "                                                                               'School and friends.', 'School and my school friends']\n",
    "                                                                              ,\"School/friends\")"
   ]
  },
  {
   "cell_type": "code",
   "execution_count": 19,
   "id": "b5c3f8a6",
   "metadata": {},
   "outputs": [
    {
     "data": {
      "text/plain": [
       "array(['Cooking', 'Scrolling through social media', 'Listening to music',\n",
       "       'Watching web series', 'Social Media',\n",
       "       'Coding and studying for exams', 'Online surfing',\n",
       "       'live stream watching', 'Reading', 'Online gaming',\n",
       "       'Reading books', 'Dancing', 'Talking with friends ',\n",
       "       'Talking to your relatives',\n",
       "       'sketching,reading books,meditation,songs',\n",
       "       'Watching orgasm releasing videos', 'Sleep', 'Crying',\n",
       "       'Many of these', 'Web Series', 'drawing ', 'Meditation', 'Cricket',\n",
       "       'Anime Manga', 'Sleeping', 'Sketching and writing', 'Writing',\n",
       "       'pubg', 'Talking', 'Workout ', 'Whatever want', 'Indoor Games',\n",
       "       'watching movies,reading books,games,listening to music,sleep,dancing',\n",
       "       'gardening cartoon',\n",
       "       'listening to music,reading books and dancing.',\n",
       "       'Dont get distreessed',\n",
       "       ' listening music, motion design, graphic design, sleeping.',\n",
       "       'Business', 'Many among these ', 'Talk with childhood friends.',\n",
       "       'Playing ', 'Exercise', 'Talking to friends',\n",
       "       'Netflix, Friends and Books', 'Driving', 'I run', 'Running',\n",
       "       'Exercising', 'Football', 'singing', 'Cardio',\n",
       "       'I cant de-stress myslef',\n",
       "       'working out and some physical activity',\n",
       "       'Writing my own Comics & novels', 'Gym',\n",
       "       'I have no problem of stress ', 'workout',\n",
       "       'No able to reduce the stress ', 'Sleeping, Online games',\n",
       "       'By engaging in my work.', 'Work', 'Painting,. Sewing', 'Drawing',\n",
       "       'Forming ', 'Workout and listening music',\n",
       "       'Both listining music and scrolling down social media', 'Painting',\n",
       "       'Sketching', 'Sports', 'Drawing and painting and sketching',\n",
       "       'With a friend', 'Reading books, music, exercise',\n",
       "       'Watching ted talks and music and books', 'Calling friends',\n",
       "       'no stress', 'Drawing, painting',\n",
       "       'All reading books watching web series listening to music and talking to friends',\n",
       "       'Do some home related stuff', 'Painting ', 'Youtube',\n",
       "       'Taking with parents',\n",
       "       'Online gaming , surfing and listening to music ',\n",
       "       'I play Rubiks cube',\n",
       "       'Listening to music and reading books both . ',\n",
       "       'Poetry, writing books and novels , listening to music too',\n",
       "       'Watching YouTube '], dtype=object)"
      ]
     },
     "execution_count": 19,
     "metadata": {},
     "output_type": "execute_result"
    }
   ],
   "source": [
    "data_set['Stress busters'].unique()"
   ]
  },
  {
   "cell_type": "code",
   "execution_count": 20,
   "id": "bc475664",
   "metadata": {},
   "outputs": [],
   "source": [
    "data_set['Stress busters'] = data_set['Stress busters'].replace([['Sleep'],['Scrolling through social media'],['Reading books'],\n",
    "                                                     ['Talking to your relatives']],\n",
    "                                                    ['Sleeping','Social Media','Reading','Talking'])\n",
    "data_set['Stress busters'] = data_set['Stress busters'].replace(['Web Series','Watching web series'],'Watching Web-Series')\n",
    "data_set['Stress busters'] = data_set['Stress busters'].replace(['Exercising','Exercise','Gym','Workout ','Cardio','workout',\n",
    "                                                     'working out and some physical activity'],\n",
    "                                                    'Exercise/Gym')"
   ]
  },
  {
   "cell_type": "code",
   "execution_count": 21,
   "id": "dde03af1",
   "metadata": {},
   "outputs": [
    {
     "data": {
      "text/plain": [
       "array(['Linkedin', 'Youtube', 'Instagram', 'Whatsapp', 'None', 'Reddit',\n",
       "       'Snapchat', 'Omegle', 'Twitter', 'Telegram', 'Facebook', 'Elyment',\n",
       "       'None ', 'Quora', 'Talklife', 'WhatsApp'], dtype=object)"
      ]
     },
     "execution_count": 21,
     "metadata": {},
     "output_type": "execute_result"
    }
   ],
   "source": [
    "data_set['Prefered social media platform'].unique()\n"
   ]
  },
  {
   "cell_type": "code",
   "execution_count": 22,
   "id": "d28bd56a",
   "metadata": {},
   "outputs": [],
   "source": [
    "data_set['Prefered social media platform'] = data_set['Prefered social media platform'].replace('None ', 'None')\n",
    "data_set['Prefered social media platform'] = data_set['Prefered social media platform'].replace('Whatsapp', 'WhatsApp')"
   ]
  },
  {
   "cell_type": "code",
   "execution_count": 23,
   "id": "30a67a01",
   "metadata": {},
   "outputs": [
    {
     "data": {
      "text/html": [
       "<div>\n",
       "<style scoped>\n",
       "    .dataframe tbody tr th:only-of-type {\n",
       "        vertical-align: middle;\n",
       "    }\n",
       "\n",
       "    .dataframe tbody tr th {\n",
       "        vertical-align: top;\n",
       "    }\n",
       "\n",
       "    .dataframe thead th {\n",
       "        text-align: right;\n",
       "    }\n",
       "</style>\n",
       "<table border=\"1\" class=\"dataframe\">\n",
       "  <thead>\n",
       "    <tr style=\"text-align: right;\">\n",
       "      <th></th>\n",
       "      <th>ID</th>\n",
       "      <th>Region of residence</th>\n",
       "      <th>Age of Subject</th>\n",
       "      <th>Time spent on Online Class</th>\n",
       "      <th>Rating of Online Class experience</th>\n",
       "      <th>Medium for online class</th>\n",
       "      <th>Time spent on self study</th>\n",
       "      <th>Time spent on fitness</th>\n",
       "      <th>Time spent on sleep</th>\n",
       "      <th>Time spent on social media</th>\n",
       "      <th>Prefered social media platform</th>\n",
       "      <th>Time spent on TV</th>\n",
       "      <th>Number of meals per day</th>\n",
       "      <th>Change in your weight</th>\n",
       "      <th>Health issue during lockdown</th>\n",
       "      <th>Stress busters</th>\n",
       "      <th>Time utilized</th>\n",
       "      <th>Do you find yourself more connected with your family, close friends , relatives  ?</th>\n",
       "      <th>What you miss the most</th>\n",
       "    </tr>\n",
       "  </thead>\n",
       "  <tbody>\n",
       "    <tr>\n",
       "      <th>0</th>\n",
       "      <td>R1</td>\n",
       "      <td>Delhi-NCR</td>\n",
       "      <td>21</td>\n",
       "      <td>2.0</td>\n",
       "      <td>Good</td>\n",
       "      <td>Laptop/Desktop</td>\n",
       "      <td>4.0</td>\n",
       "      <td>0.0</td>\n",
       "      <td>7.0</td>\n",
       "      <td>3.0</td>\n",
       "      <td>Linkedin</td>\n",
       "      <td>1.0</td>\n",
       "      <td>4</td>\n",
       "      <td>Increased</td>\n",
       "      <td>NO</td>\n",
       "      <td>Cooking</td>\n",
       "      <td>YES</td>\n",
       "      <td>YES</td>\n",
       "      <td>School/friends</td>\n",
       "    </tr>\n",
       "    <tr>\n",
       "      <th>1</th>\n",
       "      <td>R2</td>\n",
       "      <td>Delhi-NCR</td>\n",
       "      <td>21</td>\n",
       "      <td>0.0</td>\n",
       "      <td>Excellent</td>\n",
       "      <td>Smartphone</td>\n",
       "      <td>0.0</td>\n",
       "      <td>2.0</td>\n",
       "      <td>10.0</td>\n",
       "      <td>3.0</td>\n",
       "      <td>Youtube</td>\n",
       "      <td>0.0</td>\n",
       "      <td>3</td>\n",
       "      <td>Decreased</td>\n",
       "      <td>NO</td>\n",
       "      <td>Social Media</td>\n",
       "      <td>YES</td>\n",
       "      <td>NO</td>\n",
       "      <td>Roaming around freely</td>\n",
       "    </tr>\n",
       "    <tr>\n",
       "      <th>2</th>\n",
       "      <td>R3</td>\n",
       "      <td>Delhi-NCR</td>\n",
       "      <td>20</td>\n",
       "      <td>7.0</td>\n",
       "      <td>Very poor</td>\n",
       "      <td>Laptop/Desktop</td>\n",
       "      <td>3.0</td>\n",
       "      <td>0.0</td>\n",
       "      <td>6.0</td>\n",
       "      <td>2.0</td>\n",
       "      <td>Linkedin</td>\n",
       "      <td>0.0</td>\n",
       "      <td>3</td>\n",
       "      <td>Remain Constant</td>\n",
       "      <td>NO</td>\n",
       "      <td>Listening to music</td>\n",
       "      <td>NO</td>\n",
       "      <td>YES</td>\n",
       "      <td>Travelling</td>\n",
       "    </tr>\n",
       "    <tr>\n",
       "      <th>3</th>\n",
       "      <td>R4</td>\n",
       "      <td>Delhi-NCR</td>\n",
       "      <td>20</td>\n",
       "      <td>3.0</td>\n",
       "      <td>Very poor</td>\n",
       "      <td>Smartphone</td>\n",
       "      <td>2.0</td>\n",
       "      <td>1.0</td>\n",
       "      <td>6.0</td>\n",
       "      <td>5.0</td>\n",
       "      <td>Instagram</td>\n",
       "      <td>0.0</td>\n",
       "      <td>3</td>\n",
       "      <td>Decreased</td>\n",
       "      <td>NO</td>\n",
       "      <td>Watching Web-Series</td>\n",
       "      <td>NO</td>\n",
       "      <td>NO</td>\n",
       "      <td>Friends/relatives/family</td>\n",
       "    </tr>\n",
       "    <tr>\n",
       "      <th>4</th>\n",
       "      <td>R5</td>\n",
       "      <td>Delhi-NCR</td>\n",
       "      <td>21</td>\n",
       "      <td>3.0</td>\n",
       "      <td>Good</td>\n",
       "      <td>Laptop/Desktop</td>\n",
       "      <td>3.0</td>\n",
       "      <td>1.0</td>\n",
       "      <td>8.0</td>\n",
       "      <td>3.0</td>\n",
       "      <td>Instagram</td>\n",
       "      <td>1.0</td>\n",
       "      <td>4</td>\n",
       "      <td>Remain Constant</td>\n",
       "      <td>NO</td>\n",
       "      <td>Social Media</td>\n",
       "      <td>NO</td>\n",
       "      <td>NO</td>\n",
       "      <td>Travelling</td>\n",
       "    </tr>\n",
       "    <tr>\n",
       "      <th>...</th>\n",
       "      <td>...</td>\n",
       "      <td>...</td>\n",
       "      <td>...</td>\n",
       "      <td>...</td>\n",
       "      <td>...</td>\n",
       "      <td>...</td>\n",
       "      <td>...</td>\n",
       "      <td>...</td>\n",
       "      <td>...</td>\n",
       "      <td>...</td>\n",
       "      <td>...</td>\n",
       "      <td>...</td>\n",
       "      <td>...</td>\n",
       "      <td>...</td>\n",
       "      <td>...</td>\n",
       "      <td>...</td>\n",
       "      <td>...</td>\n",
       "      <td>...</td>\n",
       "      <td>...</td>\n",
       "    </tr>\n",
       "    <tr>\n",
       "      <th>1177</th>\n",
       "      <td>R1191</td>\n",
       "      <td>Delhi-NCR</td>\n",
       "      <td>12</td>\n",
       "      <td>3.0</td>\n",
       "      <td>Good</td>\n",
       "      <td>Smartphone</td>\n",
       "      <td>4.0</td>\n",
       "      <td>1.0</td>\n",
       "      <td>8.0</td>\n",
       "      <td>1.0</td>\n",
       "      <td>Instagram</td>\n",
       "      <td>2.0</td>\n",
       "      <td>3</td>\n",
       "      <td>Decreased</td>\n",
       "      <td>NO</td>\n",
       "      <td>Dancing</td>\n",
       "      <td>YES</td>\n",
       "      <td>YES</td>\n",
       "      <td>Travelling</td>\n",
       "    </tr>\n",
       "    <tr>\n",
       "      <th>1178</th>\n",
       "      <td>R1192</td>\n",
       "      <td>Delhi-NCR</td>\n",
       "      <td>14</td>\n",
       "      <td>6.0</td>\n",
       "      <td>Average</td>\n",
       "      <td>Smartphone</td>\n",
       "      <td>4.0</td>\n",
       "      <td>1.0</td>\n",
       "      <td>9.0</td>\n",
       "      <td>1.0</td>\n",
       "      <td>WhatsApp</td>\n",
       "      <td>1.0</td>\n",
       "      <td>4</td>\n",
       "      <td>Remain Constant</td>\n",
       "      <td>NO</td>\n",
       "      <td>Listening to music</td>\n",
       "      <td>YES</td>\n",
       "      <td>YES</td>\n",
       "      <td>Friends/relatives/family</td>\n",
       "    </tr>\n",
       "    <tr>\n",
       "      <th>1179</th>\n",
       "      <td>R1193</td>\n",
       "      <td>Delhi-NCR</td>\n",
       "      <td>13</td>\n",
       "      <td>4.0</td>\n",
       "      <td>Average</td>\n",
       "      <td>Smartphone</td>\n",
       "      <td>0.0</td>\n",
       "      <td>0.5</td>\n",
       "      <td>8.0</td>\n",
       "      <td>3.0</td>\n",
       "      <td>Youtube</td>\n",
       "      <td>2.0</td>\n",
       "      <td>4</td>\n",
       "      <td>Decreased</td>\n",
       "      <td>NO</td>\n",
       "      <td>Online gaming</td>\n",
       "      <td>NO</td>\n",
       "      <td>YES</td>\n",
       "      <td>School/friends</td>\n",
       "    </tr>\n",
       "    <tr>\n",
       "      <th>1180</th>\n",
       "      <td>R1194</td>\n",
       "      <td>Delhi-NCR</td>\n",
       "      <td>14</td>\n",
       "      <td>5.0</td>\n",
       "      <td>Excellent</td>\n",
       "      <td>Laptop/Desktop</td>\n",
       "      <td>3.5</td>\n",
       "      <td>1.0</td>\n",
       "      <td>8.0</td>\n",
       "      <td>0.5</td>\n",
       "      <td>Youtube</td>\n",
       "      <td>1.0</td>\n",
       "      <td>4</td>\n",
       "      <td>Remain Constant</td>\n",
       "      <td>NO</td>\n",
       "      <td>Reading</td>\n",
       "      <td>YES</td>\n",
       "      <td>YES</td>\n",
       "      <td>School/friends</td>\n",
       "    </tr>\n",
       "    <tr>\n",
       "      <th>1181</th>\n",
       "      <td>R1195</td>\n",
       "      <td>Delhi-NCR</td>\n",
       "      <td>13</td>\n",
       "      <td>5.0</td>\n",
       "      <td>Good</td>\n",
       "      <td>Tablet</td>\n",
       "      <td>2.0</td>\n",
       "      <td>0.5</td>\n",
       "      <td>7.0</td>\n",
       "      <td>1.0</td>\n",
       "      <td>WhatsApp</td>\n",
       "      <td>1.0</td>\n",
       "      <td>3</td>\n",
       "      <td>Remain Constant</td>\n",
       "      <td>NO</td>\n",
       "      <td>Talking</td>\n",
       "      <td>YES</td>\n",
       "      <td>YES</td>\n",
       "      <td>School/friends</td>\n",
       "    </tr>\n",
       "  </tbody>\n",
       "</table>\n",
       "<p>1182 rows × 19 columns</p>\n",
       "</div>"
      ],
      "text/plain": [
       "         ID Region of residence  Age of Subject  Time spent on Online Class  \\\n",
       "0        R1           Delhi-NCR              21                         2.0   \n",
       "1        R2           Delhi-NCR              21                         0.0   \n",
       "2        R3           Delhi-NCR              20                         7.0   \n",
       "3        R4           Delhi-NCR              20                         3.0   \n",
       "4        R5           Delhi-NCR              21                         3.0   \n",
       "...     ...                 ...             ...                         ...   \n",
       "1177  R1191           Delhi-NCR              12                         3.0   \n",
       "1178  R1192           Delhi-NCR              14                         6.0   \n",
       "1179  R1193           Delhi-NCR              13                         4.0   \n",
       "1180  R1194           Delhi-NCR              14                         5.0   \n",
       "1181  R1195           Delhi-NCR              13                         5.0   \n",
       "\n",
       "     Rating of Online Class experience Medium for online class  \\\n",
       "0                                 Good          Laptop/Desktop   \n",
       "1                            Excellent              Smartphone   \n",
       "2                            Very poor          Laptop/Desktop   \n",
       "3                            Very poor              Smartphone   \n",
       "4                                 Good          Laptop/Desktop   \n",
       "...                                ...                     ...   \n",
       "1177                              Good              Smartphone   \n",
       "1178                           Average              Smartphone   \n",
       "1179                           Average              Smartphone   \n",
       "1180                         Excellent          Laptop/Desktop   \n",
       "1181                              Good                  Tablet   \n",
       "\n",
       "      Time spent on self study  Time spent on fitness  Time spent on sleep  \\\n",
       "0                          4.0                    0.0                  7.0   \n",
       "1                          0.0                    2.0                 10.0   \n",
       "2                          3.0                    0.0                  6.0   \n",
       "3                          2.0                    1.0                  6.0   \n",
       "4                          3.0                    1.0                  8.0   \n",
       "...                        ...                    ...                  ...   \n",
       "1177                       4.0                    1.0                  8.0   \n",
       "1178                       4.0                    1.0                  9.0   \n",
       "1179                       0.0                    0.5                  8.0   \n",
       "1180                       3.5                    1.0                  8.0   \n",
       "1181                       2.0                    0.5                  7.0   \n",
       "\n",
       "      Time spent on social media Prefered social media platform  \\\n",
       "0                            3.0                       Linkedin   \n",
       "1                            3.0                        Youtube   \n",
       "2                            2.0                       Linkedin   \n",
       "3                            5.0                      Instagram   \n",
       "4                            3.0                      Instagram   \n",
       "...                          ...                            ...   \n",
       "1177                         1.0                      Instagram   \n",
       "1178                         1.0                       WhatsApp   \n",
       "1179                         3.0                        Youtube   \n",
       "1180                         0.5                        Youtube   \n",
       "1181                         1.0                       WhatsApp   \n",
       "\n",
       "      Time spent on TV  Number of meals per day Change in your weight  \\\n",
       "0                  1.0                        4             Increased   \n",
       "1                  0.0                        3             Decreased   \n",
       "2                  0.0                        3       Remain Constant   \n",
       "3                  0.0                        3             Decreased   \n",
       "4                  1.0                        4       Remain Constant   \n",
       "...                ...                      ...                   ...   \n",
       "1177               2.0                        3             Decreased   \n",
       "1178               1.0                        4       Remain Constant   \n",
       "1179               2.0                        4             Decreased   \n",
       "1180               1.0                        4       Remain Constant   \n",
       "1181               1.0                        3       Remain Constant   \n",
       "\n",
       "     Health issue during lockdown       Stress busters Time utilized  \\\n",
       "0                              NO              Cooking           YES   \n",
       "1                              NO         Social Media           YES   \n",
       "2                              NO   Listening to music            NO   \n",
       "3                              NO  Watching Web-Series            NO   \n",
       "4                              NO         Social Media            NO   \n",
       "...                           ...                  ...           ...   \n",
       "1177                           NO              Dancing           YES   \n",
       "1178                           NO   Listening to music           YES   \n",
       "1179                           NO        Online gaming            NO   \n",
       "1180                           NO              Reading           YES   \n",
       "1181                           NO              Talking           YES   \n",
       "\n",
       "     Do you find yourself more connected with your family, close friends , relatives  ?  \\\n",
       "0                                                   YES                                   \n",
       "1                                                    NO                                   \n",
       "2                                                   YES                                   \n",
       "3                                                    NO                                   \n",
       "4                                                    NO                                   \n",
       "...                                                 ...                                   \n",
       "1177                                                YES                                   \n",
       "1178                                                YES                                   \n",
       "1179                                                YES                                   \n",
       "1180                                                YES                                   \n",
       "1181                                                YES                                   \n",
       "\n",
       "        What you miss the most  \n",
       "0               School/friends  \n",
       "1        Roaming around freely  \n",
       "2                   Travelling  \n",
       "3     Friends/relatives/family  \n",
       "4                   Travelling  \n",
       "...                        ...  \n",
       "1177                Travelling  \n",
       "1178  Friends/relatives/family  \n",
       "1179            School/friends  \n",
       "1180            School/friends  \n",
       "1181            School/friends  \n",
       "\n",
       "[1182 rows x 19 columns]"
      ]
     },
     "execution_count": 23,
     "metadata": {},
     "output_type": "execute_result"
    }
   ],
   "source": [
    "data_set"
   ]
  },
  {
   "cell_type": "markdown",
   "id": "60d6d738",
   "metadata": {},
   "source": [
    "# 1. Knowing about the subjects"
   ]
  },
  {
   "cell_type": "markdown",
   "id": "71085a92",
   "metadata": {},
   "source": [
    "## 1.1 Which region they belong to?"
   ]
  },
  {
   "cell_type": "markdown",
   "id": "d5113035",
   "metadata": {},
   "source": [
    "Plotting pie chart to know from which region the most of the students are coming.region is obtained by getting keys from the column 'Region of residence'(  ['Region of residence'].value_counts().keys().to_list()  ),and  number of students residing in particular region is obtained by value_counts().plotting pie chart using student_in_region.setting region as label,setting autopct to write inside pie diagram.setting explode=(0,0.1)"
   ]
  },
  {
   "cell_type": "code",
   "execution_count": 24,
   "id": "052fca2d",
   "metadata": {},
   "outputs": [],
   "source": [
    "region=data_set[\"Region of residence\"].value_counts().keys().to_list()\n",
    "student_in_region=data_set[\"Region of residence\"].value_counts().to_list()\n"
   ]
  },
  {
   "cell_type": "code",
   "execution_count": 25,
   "id": "7e56fe4f",
   "metadata": {},
   "outputs": [
    {
     "data": {
      "image/png": "[encoded data removed]",
      "text/plain": [
       "<Figure size 720x720 with 1 Axes>"
      ]
     },
     "metadata": {},
     "output_type": "display_data"
    },
    {
     "data": {
      "text/plain": [
       "<Figure size 432x288 with 0 Axes>"
      ]
     },
     "metadata": {},
     "output_type": "display_data"
    }
   ],
   "source": [
    "plt.figure(figsize=(10,10))\n",
    "plt.title(\"Region of residence\",fontdict={\"fontsize\":20,\"fontweight\":10})\n",
    "plt.pie(student_in_region,explode=(0,0.1),labels=region,shadow=True,\n",
    "        autopct=lambda x:f'{x:,.2f}%\\n({x*sum(student_in_region)/100:.0f})',\n",
    "       textprops={'fontsize':18,'weight':'bold'},startangle=90)\n",
    "plt.show()\n",
    "plt.savefig('Region of residence.png',transparent=True)"
   ]
  },
  {
   "cell_type": "markdown",
   "id": "8ce200bb",
   "metadata": {},
   "source": [
    "* most students are from Delhi\n"
   ]
  },
  {
   "cell_type": "markdown",
   "id": "a5175f80",
   "metadata": {},
   "source": [
    "## 1.2 What is the age wise distribution?"
   ]
  },
  {
   "cell_type": "markdown",
   "id": "3510907f",
   "metadata": {},
   "source": [
    "Plotting countplot to know about the age distribution of students.figure size is set as (10,10). Count plot is plotted by fixing X axis as the column 'Age of Subject',and Y axis 'Number of students'. Set1 palette is used"
   ]
  },
  {
   "cell_type": "code",
   "execution_count": 26,
   "id": "c0f1beea",
   "metadata": {
    "scrolled": false
   },
   "outputs": [
    {
     "data": {
      "image/png": "[encoded data removed]",
      "text/plain": [
       "<Figure size 720x720 with 1 Axes>"
      ]
     },
     "metadata": {
      "needs_background": "light"
     },
     "output_type": "display_data"
    },
    {
     "data": {
      "text/plain": [
       "<Figure size 432x288 with 0 Axes>"
      ]
     },
     "metadata": {},
     "output_type": "display_data"
    }
   ],
   "source": [
    "plt.figure(figsize=(10,10))\n",
    "plt.title(\"Age wise distribution\",fontdict={\"fontsize\":20,\"fontweight\":10})\n",
    "obj=sns.countplot(x=\"Age of Subject\", data=data_set, palette='Set1')\n",
    "obj.set_ylabel(\"Number of students\",weight='bold',fontsize=18)\n",
    "obj.set_xlabel(\"Age of students\",weight='bold',fontsize=18)\n",
    "plt.show()\n",
    "plt.savefig('Age wise distribution.png',transparent=True)"
   ]
  },
  {
   "cell_type": "markdown",
   "id": "8f5b0d93",
   "metadata": {},
   "source": [
    "* Most of the students are of the age group 15-24"
   ]
  },
  {
   "cell_type": "markdown",
   "id": "4659d7e5",
   "metadata": {},
   "source": [
    "## 1.3 How did they rated their online class experiance ?"
   ]
  },
  {
   "cell_type": "markdown",
   "id": "7d17b7fe",
   "metadata": {},
   "source": [
    "for plotting barchart, rating is obtained by getting the keys from the column 'Rating of online class' by ['Rating of online class']. value_counts(). keys(). and convert them to list using to_list().Count is obtained by ['Rating of online class']. value_counts(). Plotting a barchart to know how did students rated their online class experiance by making the column rating as X axis and 'count' as Y axis.figure is size set as (10,10) "
   ]
  },
  {
   "cell_type": "code",
   "execution_count": 27,
   "id": "217b3bbb",
   "metadata": {},
   "outputs": [
    {
     "name": "stdout",
     "output_type": "stream",
     "text": [
      "['Very poor', 'Average', 'Good', 'Excellent', 'Poor']\n",
      "[413, 411, 230, 98, 30]\n"
     ]
    }
   ],
   "source": [
    "rating=data_set[\"Rating of Online Class experience\"].value_counts().keys().to_list()\n",
    "print(rating)\n",
    "count=data_set[\"Rating of Online Class experience\"].value_counts().to_list()\n",
    "print(count)\n"
   ]
  },
  {
   "cell_type": "code",
   "execution_count": null,
   "id": "5655d0b0",
   "metadata": {},
   "outputs": [],
   "source": [
    "plt.figure(figsize=(10,10))\n",
    "obj=plt.bar(rating,count)\n",
    "sns.set_style(\"darkgrid\")\n",
    "plt.title(\" Rating of online class\",fontdict={\"fontsize\":20,\"fontweight\":10})\n",
    "plt.show()\n",
    "plt.savefig('Rating of online class.png',transparent=True)"
   ]
  },
  {
   "cell_type": "markdown",
   "id": "18cec07c",
   "metadata": {},
   "source": [
    "* most of the students are not statisfied by the online class"
   ]
  },
  {
   "cell_type": "markdown",
   "id": "d197abdb",
   "metadata": {},
   "source": [
    "## 1.4 what devices they use for online learning?"
   ]
  },
  {
   "cell_type": "markdown",
   "id": "58aad933",
   "metadata": {},
   "source": [
    "Plotting a pie chart to know which devices are students using for online learning. finding count using value_counts().Name of the devices are get by ['Medium for online class]. value_counts(). keys()  and converted it to list and assigning the obtained list to 'devices'.Figure size set as (10,10).plotting pie using count.label is set as devices.autopct is used to write inside of pie chart.explode is set as (0.01,0.02,0.3,0.4,0.5)."
   ]
  },
  {
   "cell_type": "code",
   "execution_count": null,
   "id": "7ef21b52",
   "metadata": {},
   "outputs": [],
   "source": [
    "devices=data_set[\"Medium for online class\"].value_counts().keys().to_list()\n",
    "print(devices)\n",
    "d_count=data_set[\"Medium for online class\"].value_counts().to_list()\n",
    "print(d_count)"
   ]
  },
  {
   "cell_type": "code",
   "execution_count": null,
   "id": "f50281c2",
   "metadata": {},
   "outputs": [],
   "source": [
    "plt.figure(figsize=(10,10))\n",
    "plt.pie(d_count,explode=(0.01,0.02,0.3,0.4,0.5),labels=devices,shadow=True, \n",
    "        autopct=lambda p : f'{p:.2f}%  ({p * sum(d_count)/100:,.0f})',textprops={'fontsize':16, 'weight':'bold'})\n",
    "plt.title(\"Devices used for online learning\",fontdict={\"fontsize\":20,\"fontweight\":10})\n",
    "plt.show()\n",
    "plt.savefig('Device used for learing.png',transparent=True)"
   ]
  },
  {
   "cell_type": "markdown",
   "id": "d1b161d8",
   "metadata": {},
   "source": [
    "* Most students use  laptop and Smartphone for their online learning"
   ]
  },
  {
   "cell_type": "markdown",
   "id": "762be601",
   "metadata": {},
   "source": [
    "## 1.5 How they spent their time?"
   ]
  },
  {
   "cell_type": "markdown",
   "id": "8f150efe",
   "metadata": {},
   "source": [
    "Plotting boxplot using the columns 'Time spent on Online class','Time spent on self study','Time spent on fitness','Time spent on sleep','Time spent on social media','Time spent on TV'.figure size is set as (14,10),orient is set as h,palette isset as Set3"
   ]
  },
  {
   "cell_type": "code",
   "execution_count": null,
   "id": "cd892b32",
   "metadata": {},
   "outputs": [],
   "source": [
    "plt.figure(figsize=(14,10))\n",
    "plt.title(\"How did they spent their time\",fontdict={\"fontsize\":20,\"fontweight\":10})\n",
    "sns.set_style(\"darkgrid\")\n",
    "sns.boxplot(data=data_set[[\"Time spent on Online Class\",\"Time spent on self study\",\"Time spent on fitness\",\n",
    "                           \"Time spent on sleep\",\"Time spent on social media\",\"Time spent on TV\"]],\n",
    "           orient='h',palette='Set3')\n",
    "plt.show()\n",
    "plt.savefig('spent time.png',transparent=True)"
   ]
  },
  {
   "cell_type": "markdown",
   "id": "56685933",
   "metadata": {},
   "source": [
    "* students most time for online class"
   ]
  },
  {
   "cell_type": "markdown",
   "id": "5f03c236",
   "metadata": {},
   "source": [
    "## 1.6 What is their preferred social media platform?"
   ]
  },
  {
   "cell_type": "markdown",
   "id": "d1ef03f2",
   "metadata": {},
   "source": [
    "Plotting a pie chart to know which social media platform are preferred most by the students . finding count using value_counts().Name of the social media platform are get by [\"Prefered social media platform\"]. value_counts(). keys() and converted it to list and assigning the obtained list to 'social_media'.Figure size set as (10,10).plotting pie using count.setting legend by is setting label as social_media and setting its facecolor as 'lightyellow'.\n"
   ]
  },
  {
   "cell_type": "code",
   "execution_count": null,
   "id": "c60b91ed",
   "metadata": {},
   "outputs": [],
   "source": [
    "social_media=data_set[\"Prefered social media platform\"].value_counts().keys().to_list()\n",
    "print(social_media)\n",
    "s_count=data_set[\"Prefered social media platform\"].value_counts().to_list()"
   ]
  },
  {
   "cell_type": "code",
   "execution_count": null,
   "id": "4e07d896",
   "metadata": {},
   "outputs": [],
   "source": [
    "plt.figure(figsize=(10,10))\n",
    "plt.title(\"Preferred social media platform\",fontdict={\"fontsize\":20,\"fontweight\":10})\n",
    "plt.pie(s_count,shadow=True,startangle=0)\n",
    "plt.legend(labels=social_media,loc='upper right',shadow=True,facecolor=\"lightyellow\")\n",
    "plt.show()\n",
    "plt.savefig('social media.png',transparent=True)"
   ]
  },
  {
   "cell_type": "markdown",
   "id": "912d68cb",
   "metadata": {},
   "source": [
    "* Most students prefer Instagram,Whatsapp,and Youtube"
   ]
  },
  {
   "cell_type": "markdown",
   "id": "6364ba90",
   "metadata": {},
   "source": [
    "## 1.7 what is their favourite stress buster?"
   ]
  },
  {
   "cell_type": "markdown",
   "id": "9f2ff74f",
   "metadata": {},
   "source": [
    "Plotting count plot to know their favourite stress buster. Figure size set as (12,8).plotting count plot using column 'Stress busters',setting 'order' as first 15 most favorite stress buster by setting order=['stress buster'].value_counts().index[:15].setting Set3 as palette.setting xlabel and y label"
   ]
  },
  {
   "cell_type": "code",
   "execution_count": null,
   "id": "f9749de8",
   "metadata": {},
   "outputs": [],
   "source": [
    "plt.figure(figsize=(12,8))\n",
    "plt.title(\"Favourite stress busters\",fontdict={\"fontsize\":20,\"fontweight\":10})\n",
    "sns.set_style(\"darkgrid\")\n",
    "stress_buster=sns.countplot(y='Stress busters',data=data_set,order=data_set['Stress busters'].\n",
    "                           value_counts().index[:15],palette=\"Set3\")\n",
    "stress_buster.set_xlabel(\"Number of subjects\",fontsize=18,weight=\"bold\")\n",
    "stress_buster.set_ylabel(\"Stress busters\",fontsize=18,weight=\"bold\")\n",
    "plt.show()\n",
    "plt.savefig('stress buster.png',transparent=True)"
   ]
  },
  {
   "cell_type": "markdown",
   "id": "5f48d605",
   "metadata": {},
   "source": [
    "* student loves to listen music , play games and watch web series to decrese stress.¶\n",
    "* students love to listen music the most"
   ]
  },
  {
   "cell_type": "markdown",
   "id": "76aee10f",
   "metadata": {},
   "source": [
    "## 1.8 What did they miss the most?"
   ]
  },
  {
   "cell_type": "markdown",
   "id": "72e016dc",
   "metadata": {},
   "source": [
    "Plotting count plot to know what did students miss the most using the column 'What you miss the most' .figure size is set as (12,8).'order' is set as first 10 most missing things by order=['What you miss the most'].value_counts().index[:10].Set 3 is setting as palette.setting x_label and y_label"
   ]
  },
  {
   "cell_type": "code",
   "execution_count": null,
   "id": "a49b7f84",
   "metadata": {},
   "outputs": [],
   "source": [
    "plt.figure(figsize=(12,8))\n",
    "plt.title(\"What did they miss the most\",fontdict={\"fontsize\":20,\"fontweight\":10})\n",
    "sns.set_style(\"darkgrid\")\n",
    "miss_most=sns.countplot(y='What you miss the most', data=data_set,\n",
    "              order=data_set['What you miss the most'].value_counts().index[:10], palette='Set3')\n",
    "miss_most.set_xlabel(\"Number of subjects\",fontsize=18,weight=\"bold\")\n",
    "miss_most.set_ylabel(\"what did they miss?\",fontsize=18,weight=\"bold\")\n",
    "plt.show()\n",
    "plt.savefig('miss most.png',transparent=True)"
   ]
  },
  {
   "cell_type": "markdown",
   "id": "451849f5",
   "metadata": {},
   "source": [
    "* most of the students miss school and friends"
   ]
  },
  {
   "cell_type": "markdown",
   "id": "e7615c7f",
   "metadata": {},
   "source": [
    "# 2. How their health has been impacted by various factors"
   ]
  },
  {
   "cell_type": "markdown",
   "id": "f5011df9",
   "metadata": {},
   "source": [
    "## 2.1 students having health issues during lockdown"
   ]
  },
  {
   "cell_type": "markdown",
   "id": "f0a96516",
   "metadata": {},
   "source": [
    "plotting count plot to know the students having health issues during lockdown"
   ]
  },
  {
   "cell_type": "code",
   "execution_count": null,
   "id": "726d59ea",
   "metadata": {},
   "outputs": [],
   "source": [
    "plt.figure(figsize=(8,8))\n",
    "plt.title(\"Health issues during lockdown\",fontdict={\"fontsize\":20,\"fontweight\":10})\n",
    "sns.countplot(y= \"Health issue during lockdown\", data= data_set)\n",
    "plt.show()\n",
    "plt.savefig('health.png',transparent=True)"
   ]
  },
  {
   "cell_type": "markdown",
   "id": "0f17e5ba",
   "metadata": {},
   "source": [
    "* students are actually doing great during lockdown"
   ]
  },
  {
   "cell_type": "markdown",
   "id": "d12d9bb8",
   "metadata": {},
   "source": [
    "### Now from students having heath issues during lockdown, we are going to analyze various features that affect their health"
   ]
  },
  {
   "cell_type": "markdown",
   "id": "57d27ada",
   "metadata": {},
   "source": [
    "## 2.1.1 On the activities they spent their time ?\n"
   ]
  },
  {
   "cell_type": "markdown",
   "id": "9482d1dd",
   "metadata": {},
   "source": [
    "plotting violin plot to know how spenting time in various activities affecting health.Using subplot multiple graphs that having various features(\"Time spent on online class\",\"Time spent on self study\", \"Time spent on fitness\", \"Time spent on sleep\", \"Time spent on social media\", \"Time spent on TV\") are plotted againt the column \"Health issue during lockdown\" are shown together."
   ]
  },
  {
   "cell_type": "code",
   "execution_count": null,
   "id": "b3b555f7",
   "metadata": {},
   "outputs": [],
   "source": [
    "sns.set_style(\"darkgrid\")\n",
    "fig,ax=plt.subplots(3,2,figsize=(16,18))\n",
    "sns.violinplot(x=\"Health issue during lockdown\",y=\"Time spent on Online Class\",data=data_set,ax=ax[0,0])\n",
    "sns.violinplot(x=\"Health issue during lockdown\",y=\"Time spent on self study\",data=data_set,ax=ax[0,1])\n",
    "sns.violinplot(x=\"Health issue during lockdown\",y=\"Time spent on fitness\",data=data_set,ax=ax[1,0])\n",
    "sns.violinplot(x=\"Health issue during lockdown\",y=\"Time spent on sleep\",data=data_set,ax=ax[1,1])\n",
    "sns.violinplot(x=\"Health issue during lockdown\",y=\"Time spent on social media\",data=data_set,ax=ax[2,0])\n",
    "sns.violinplot(x=\"Health issue during lockdown\",y=\"Time spent on TV\",data=data_set,ax=ax[2,1])\n",
    "fig.suptitle('Health issues vs activities they spent their time ', fontsize=30)\n",
    "plt.show()\n",
    "plt.savefig('health-spenttime.png',transparent=True)"
   ]
  },
  {
   "cell_type": "markdown",
   "id": "2f5513ae",
   "metadata": {},
   "source": [
    "* from overall analysis some of the students are found to have health issue during lockdown \n",
    "* students spending their time in fitness are not having much health issues\n",
    "* taking the students having health issues during lockdown,students spending their time in online class(1-3 hours) ,social media (1-2 hours) ,TV(0-2 hours),Sleep(5-9 hours) found to have health isuues during lockdown\n",
    "\n"
   ]
  },
  {
   "cell_type": "markdown",
   "id": "3e822764",
   "metadata": {},
   "source": [
    "## 2.1.2 On their respective age?"
   ]
  },
  {
   "cell_type": "markdown",
   "id": "8845968b",
   "metadata": {},
   "source": [
    "Plotting violin plot to know how age affect health issue during lockdown"
   ]
  },
  {
   "cell_type": "code",
   "execution_count": null,
   "id": "eb1a041c",
   "metadata": {},
   "outputs": [],
   "source": [
    "plt.figure(figsize=(8,8))\n",
    "plt.title(\"Health issues vs age\",fontdict={'fontsize':20,'fontweight':10})\n",
    "sns.set_style(\"darkgrid\")\n",
    "sns.violinplot(x=\"Health issue during lockdown\",y=\"Age of Subject\",data=data_set)\n",
    "plt.show()\n",
    "plt.savefig('health-age.png',transparent=True)"
   ]
  },
  {
   "cell_type": "markdown",
   "id": "d86ef9ed",
   "metadata": {},
   "source": [
    "* health issues during lockdown is found to have more in the students of the age group 18-25 "
   ]
  },
  {
   "cell_type": "markdown",
   "id": "dae655bf",
   "metadata": {},
   "source": [
    "## 2.1.3 On the number of meals they had?"
   ]
  },
  {
   "cell_type": "markdown",
   "id": "36b68866",
   "metadata": {},
   "source": [
    "Plotting violinplot to analyze how health is affected by the number of meals had by students"
   ]
  },
  {
   "cell_type": "code",
   "execution_count": null,
   "id": "297e3588",
   "metadata": {},
   "outputs": [],
   "source": [
    "plt.figure(figsize=(8,8))\n",
    "plt.title(\"Health issues vs number of meals\",fontdict={'fontsize':20,'fontweight':10})\n",
    "sns.set_style(\"darkgrid\")\n",
    "sns.violinplot(x=\"Health issue during lockdown\",y=\"Number of meals per day\",data=data_set)\n",
    "plt.show()\n",
    "plt.savefig('health-meal.png',transparent=True)"
   ]
  },
  {
   "cell_type": "markdown",
   "id": "e7c2e036",
   "metadata": {},
   "source": [
    "* Number meals didn't affect the health that much\n",
    "* but taking the students having health issues in to consideration students who had 2-4 meals a day are found to be affected the most"
   ]
  },
  {
   "cell_type": "markdown",
   "id": "9f26aa70",
   "metadata": {},
   "source": [
    "# 3. Does number of meals affect their weight?"
   ]
  },
  {
   "cell_type": "markdown",
   "id": "b52edb24",
   "metadata": {},
   "source": [
    "plotting boxplot to analyze how the number of meals a day affected their age"
   ]
  },
  {
   "cell_type": "code",
   "execution_count": null,
   "id": "ffb4261c",
   "metadata": {},
   "outputs": [],
   "source": [
    "plt.figure(figsize=(12,8))\n",
    "plt.title(\"Does number of ,eals affect their weight\",fontdict={'fontsize':20,'fontweight':10})\n",
    "sns.set_style(\"darkgrid\")\n",
    "sns.boxplot(x='Number of meals per day',y=\"Change in your weight\",data=data_set)\n",
    "plt.show()\n",
    "plt.savefig('meal-weight.png',transparent=True)"
   ]
  },
  {
   "cell_type": "markdown",
   "id": "30d38c50",
   "metadata": {},
   "source": [
    "* there is a increase in the weight of students who had 3-4 meals a day\n",
    "* from students had 2-3 meals a day some of the student's weight had decreased and some of the student's weight remained constant\n"
   ]
  },
  {
   "cell_type": "markdown",
   "id": "f3c75244",
   "metadata": {},
   "source": [
    "# 4. How they utilized their time?"
   ]
  },
  {
   "cell_type": "markdown",
   "id": "511c7f48",
   "metadata": {},
   "source": [
    "using subplot multiple graphs are showing to analyze how students utilized thier time.by fixing \"Time utilized as x axis graphs are plotted against the features 'Time spent on Online Class', 'Time spent on self study', ' Time spent on fitness', 'Time spent on sleep', 'Time spent on social media', 'Time spent on TV'. "
   ]
  },
  {
   "cell_type": "code",
   "execution_count": null,
   "id": "4ef00e31",
   "metadata": {
    "scrolled": false
   },
   "outputs": [],
   "source": [
    "sns.set_style(\"darkgrid\")\n",
    "fig,ax=plt.subplots(3,2,figsize=(16,18))\n",
    "sns.boxplot(x=\"Time utilized\",y=\"Time spent on Online Class\",data=data_set,ax=ax[0,0])\n",
    "sns.boxplot(x=\"Time utilized\",y=\"Time spent on self study\",data=data_set,ax=ax[0,1])\n",
    "sns.boxplot(x=\"Time utilized\",y=\"Time spent on fitness\",data=data_set,ax=ax[1,0])\n",
    "sns.boxplot(x=\"Time utilized\",y=\"Time spent on sleep\",data=data_set,ax=ax[1,1])\n",
    "sns.boxplot(x=\"Time utilized\",y=\"Time spent on social media\",data=data_set,ax=ax[2,0])\n",
    "sns.boxplot(x=\"Time utilized\",y=\"Time spent on TV\",data=data_set,ax=ax[2,1])\n",
    "fig.suptitle('How they spent their time', fontsize=30)\n",
    "plt.show()\n",
    "plt.savefig('spent-subpllot.pmg',transparent=True)"
   ]
  },
  {
   "cell_type": "markdown",
   "id": "1d99d601",
   "metadata": {},
   "source": [
    "* from students spent their time,they spent most of their time in online class\n",
    "* there are students who didnt involve in online class\n",
    "* some students didnt spent their time for self study\n",
    "* students did spent 2-4 hours on social media\n",
    "* students are not showing much interest in watcing TV"
   ]
  },
  {
   "cell_type": "markdown",
   "id": "821a388c",
   "metadata": {},
   "source": [
    "# 5. Heatmap(correlation) among numerical features"
   ]
  },
  {
   "cell_type": "markdown",
   "id": "cc8be4af",
   "metadata": {},
   "source": [
    "Plotting heatmap to show the correaltion of features"
   ]
  },
  {
   "cell_type": "code",
   "execution_count": null,
   "id": "fd257704",
   "metadata": {},
   "outputs": [],
   "source": [
    "correlation=data_set.corr()\n",
    "mask=np.zeros_like(correlation)\n",
    "mask[np.triu_indices_from(mask)]=True\n",
    "plt.figure(figsize=(10,10))\n",
    "sns.heatmap(correlation,mask=mask,cmap='RdBu',center=0,annot=True,square=True,linewidths=.5,cbar_kws={\"shrink\":.5})\n",
    "plt.show()\n",
    "plt.savefig('heat map.png',transparent=True)\n",
    "\n"
   ]
  },
  {
   "cell_type": "markdown",
   "id": "3a0bb8c5",
   "metadata": {},
   "source": [
    "* there is no positive correlation between any features at all\n",
    "* there is only  weak correlation between the features"
   ]
  }
 ],
 "metadata": {
  "kernelspec": {
   "display_name": "Python 3 (ipykernel)",
   "language": "python",
   "name": "python3"
  },
  "language_info": {
   "codemirror_mode": {
    "name": "ipython",
    "version": 3
   },
   "file_extension": ".py",
   "mimetype": "text/x-python",
   "name": "python",
   "nbconvert_exporter": "python",
   "pygments_lexer": "ipython3",
   "version": "3.9.12"
  }
 },
 "nbformat": 4,
 "nbformat_minor": 5
}
